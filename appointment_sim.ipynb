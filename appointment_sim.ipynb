{
 "cells": [
  {
   "cell_type": "code",
   "execution_count": 1,
   "metadata": {},
   "outputs": [],
   "source": [
    "import simpy\n",
    "import pandas as pd\n",
    "from datetime import timedelta\n",
    "from datetime import datetime\n",
    "import numpy as np\n",
    "import csv\n",
    "import matplotlib.pyplot as plt "
   ]
  },
  {
   "cell_type": "code",
   "execution_count": 2,
   "metadata": {},
   "outputs": [
    {
     "data": {
      "text/plain": [
       "[('Emma Johnson', '2023-02-05 08:00'),\n",
       " ('Olivia Brown', '2023-02-05 08:10'),\n",
       " ('Ava Smith', '2023-02-05 08:20'),\n",
       " ('Noah Taylor', '2023-02-05 08:30'),\n",
       " ('Ethan Thompson', '2023-02-05 08:40')]"
      ]
     },
     "execution_count": 2,
     "metadata": {},
     "output_type": "execute_result"
    }
   ],
   "source": [
    "#Read a list of Names and Appointment Datetimes from a file (representing the appointment book)\n",
    "with open('/home/mrsmin/py_primarycare_sim/patient_list1.txt') as f:\n",
    "    r = csv.reader(f, delimiter='\\t')\n",
    "    pt_lst = list(tuple(line) for line in r)\n",
    "\n",
    "#Remove the column headers\n",
    "pt_lst = pt_lst[1:]\n",
    "#display to confirm this worked\n",
    "pt_lst[0:5]"
   ]
  },
  {
   "cell_type": "code",
   "execution_count": 3,
   "metadata": {},
   "outputs": [
    {
     "data": {
      "text/plain": [
       "'Mumpzenmezle'"
      ]
     },
     "execution_count": 3,
     "metadata": {},
     "output_type": "execute_result"
    }
   ],
   "source": [
    "#Create a Doctor class. \n",
    "# This program assumes just one doctor but we could have a more realistic appointment book \n",
    "# showing which one of several doctors that patient will see\n",
    "class Doctor:\n",
    "    def __init__(self, doc_name):\n",
    "        self.doc_name = doc_name\n",
    "        self.status = \"Available\"\n",
    "        self.status_change_time = [(\"Available\",'2023-02-05 08:00' )]\n",
    "\n",
    "\n",
    "doc1 = Doctor(\"Mumpzenmezle\")\n",
    "\n",
    "doc1.doc_name"
   ]
  },
  {
   "cell_type": "code",
   "execution_count": 19,
   "metadata": {},
   "outputs": [],
   "source": [
    "class Patient:\n",
    "    def __init__(self, Name, AppointmentDateTime):\n",
    "        self.Name = Name\n",
    "        self.AppointmentDateTime = datetime.strptime(AppointmentDateTime, '%Y-%m-%d %H:%M')\n",
    "        self.status = \"Not arrived\"\n",
    "        self.start_consult = None\n",
    "        #Patient randomly arrives 15 mins either side of appt, with a median of 5 mins early, from triangle distribution.\n",
    "        self.arrival_time = self.AppointmentDateTime + timedelta(seconds=np.random.triangular(-900, -300, 900 ))\n",
    "        self.arrival_time = self.arrival_time.replace(microsecond=0)\n",
    "\n",
    "        if self.AppointmentDateTime == self.arrival_time:\n",
    "            self.arrival_class = \"On Time\"\n",
    "        elif self.arrival_time > self.AppointmentDateTime:\n",
    "            self.arrival_class = f\"{self.arrival_time - self.AppointmentDateTime} Late\"\n",
    "        else:\n",
    "            self.arrival_class = f\"{self.AppointmentDateTime - self.arrival_time} Early\"\n",
    "\n",
    "    def arrives(self, myclock):\n",
    "        if myclock == self.arrival_time:\n",
    "            self.status = \"Arrived\"\n",
    "            print(f\"{self.Name} {self.status} {self.arrival_class}, {myclock.strftime('%m/%d/%Y, %H:%M:%S')}\")\n",
    "            \n",
    "\n",
    "    def consultation(self, myclock):\n",
    "        if myclock >= self.AppointmentDateTime and self.status == \"Arrived\" and doc1.status==\"Available\":\n",
    "            self.start_consult = myclock\n",
    "            self.status = \"Being Seen\"\n",
    "            doc1.status = \"Busy\"\n",
    "            doc1.status_change_time.append((doc1.status, myclock))\n",
    "            self.wait_time = self.start_consult - max(self.AppointmentDateTime, self.arrival_time)\n",
    "            print(f\"{self.Name} is {self.status}, waited {self.wait_time} , {doc1.doc_name} is {doc1.status} {myclock.strftime('%m/%d/%Y, %H:%M:%S')}\")\n",
    "\n",
    "\n",
    "    def consultation_ends(self, myclock):\n",
    "        if self.status == \"Being Seen\":\n",
    "            #random consultation duration from triangular distribution.\n",
    "            # min 5 minutes, median 8 mins, max 20 mins\n",
    "            if myclock >= self.start_consult + timedelta(seconds=np.random.triangular(300, 480, 1200)): \n",
    "                self.consult_duration = myclock - self.start_consult\n",
    "                self.status = \"Finished Consult\"\n",
    "                doc1.status = \"Available\"\n",
    "                doc1.status_change_time.append((doc1.status, myclock))\n",
    "                print(f\"{self.Name} {self.status}, Duration {self.consult_duration}, {doc1.doc_name} is {doc1.status}, {myclock.strftime('%m/%d/%Y, %H:%M:%S')}\")\n",
    "\n"
   ]
  },
  {
   "cell_type": "code",
   "execution_count": 20,
   "metadata": {},
   "outputs": [],
   "source": [
    "#list comprehension creates a patient for every row in list\n",
    "AppointmentBook = [Patient(*x) for x in pt_lst]"
   ]
  },
  {
   "cell_type": "code",
   "execution_count": 22,
   "metadata": {},
   "outputs": [
    {
     "data": {
      "text/plain": [
       "[datetime.datetime(2023, 2, 5, 7, 57, 25),\n",
       " datetime.datetime(2023, 2, 5, 8, 2, 44),\n",
       " datetime.datetime(2023, 2, 5, 8, 16, 45),\n",
       " datetime.datetime(2023, 2, 5, 8, 28, 50),\n",
       " datetime.datetime(2023, 2, 5, 8, 35, 48)]"
      ]
     },
     "execution_count": 22,
     "metadata": {},
     "output_type": "execute_result"
    }
   ],
   "source": [
    "alln = [patient.arrival_time for patient in AppointmentBook]\n",
    "\n",
    "alln[0:5]"
   ]
  },
  {
   "cell_type": "code",
   "execution_count": 23,
   "metadata": {},
   "outputs": [],
   "source": [
    "# We will step though time by incrementing myclock in one second steps, starting at the point shown here\n",
    "myclock = datetime.strptime(\"2023-02-05 07:45\", '%Y-%m-%d %H:%M')\n"
   ]
  },
  {
   "cell_type": "code",
   "execution_count": 24,
   "metadata": {},
   "outputs": [
    {
     "name": "stdout",
     "output_type": "stream",
     "text": [
      "Emma Johnson Arrived 0:02:35 Early, 02/05/2023, 07:57:25\n",
      "Emma Johnson is Being Seen, waited 0:00:00 , Mumpzenmezle is Busy 02/05/2023, 08:00:00\n",
      "Olivia Brown Arrived 0:07:16 Early, 02/05/2023, 08:02:44\n",
      "Emma Johnson Finished Consult, Duration 0:06:47, Mumpzenmezle is Available, 02/05/2023, 08:06:47\n",
      "Olivia Brown is Being Seen, waited 0:00:00 , Mumpzenmezle is Busy 02/05/2023, 08:10:00\n",
      "Olivia Brown Finished Consult, Duration 0:06:24, Mumpzenmezle is Available, 02/05/2023, 08:16:24\n",
      "Ava Smith Arrived 0:03:15 Early, 02/05/2023, 08:16:45\n",
      "Ava Smith is Being Seen, waited 0:00:00 , Mumpzenmezle is Busy 02/05/2023, 08:20:00\n",
      "Ava Smith Finished Consult, Duration 0:05:58, Mumpzenmezle is Available, 02/05/2023, 08:25:58\n",
      "Noah Taylor Arrived 0:01:10 Early, 02/05/2023, 08:28:50\n",
      "Noah Taylor is Being Seen, waited 0:00:00 , Mumpzenmezle is Busy 02/05/2023, 08:30:00\n",
      "Noah Taylor Finished Consult, Duration 0:05:42, Mumpzenmezle is Available, 02/05/2023, 08:35:42\n",
      "Ethan Thompson Arrived 0:04:12 Early, 02/05/2023, 08:35:48\n",
      "Ethan Thompson is Being Seen, waited 0:00:00 , Mumpzenmezle is Busy 02/05/2023, 08:40:00\n",
      "Lily Patel Arrived 0:05:33 Early, 02/05/2023, 08:44:27\n",
      "Ethan Thompson Finished Consult, Duration 0:06:18, Mumpzenmezle is Available, 02/05/2023, 08:46:18\n",
      "Lily Patel is Being Seen, waited 0:00:00 , Mumpzenmezle is Busy 02/05/2023, 08:50:00\n",
      "Lily Patel Finished Consult, Duration 0:05:31, Mumpzenmezle is Available, 02/05/2023, 08:55:31\n",
      "Oliver Williams Arrived 0:01:24 Early, 02/05/2023, 08:58:36\n",
      "Oliver Williams is Being Seen, waited 0:00:00 , Mumpzenmezle is Busy 02/05/2023, 09:00:00\n",
      "Oliver Williams Finished Consult, Duration 0:06:11, Mumpzenmezle is Available, 02/05/2023, 09:06:11\n",
      "Charlotte Wilson Arrived 0:01:28 Early, 02/05/2023, 09:08:32\n",
      "Charlotte Wilson is Being Seen, waited 0:00:00 , Mumpzenmezle is Busy 02/05/2023, 09:10:00\n",
      "Charlotte Wilson Finished Consult, Duration 0:06:09, Mumpzenmezle is Available, 02/05/2023, 09:16:09\n",
      "James Adams Arrived 0:02:04 Late, 02/05/2023, 09:22:04\n",
      "James Adams is Being Seen, waited 0:00:00 , Mumpzenmezle is Busy 02/05/2023, 09:22:04\n",
      "James Adams Finished Consult, Duration 0:05:56, Mumpzenmezle is Available, 02/05/2023, 09:28:00\n",
      "Amelia Lee Arrived 0:06:57 Late, 02/05/2023, 09:36:57\n",
      "Amelia Lee is Being Seen, waited 0:00:00 , Mumpzenmezle is Busy 02/05/2023, 09:36:57\n",
      "Amelia Lee Finished Consult, Duration 0:06:29, Mumpzenmezle is Available, 02/05/2023, 09:43:26\n",
      "Mia Hughes Arrived 0:03:31 Early, 02/05/2023, 09:46:29\n",
      "Gabriel Reed Arrived 0:08:46 Late, 02/05/2023, 09:48:46\n",
      "Gabriel Reed is Being Seen, waited 0:00:00 , Mumpzenmezle is Busy 02/05/2023, 09:48:46\n",
      "Gabriel Reed Finished Consult, Duration 0:06:28, Mumpzenmezle is Available, 02/05/2023, 09:55:14\n",
      "Mia Hughes is Being Seen, waited 0:05:14 , Mumpzenmezle is Busy 02/05/2023, 09:55:14\n",
      "Benjamin Clark Arrived 0:00:09 Late, 02/05/2023, 10:00:09\n",
      "Mia Hughes Finished Consult, Duration 0:06:31, Mumpzenmezle is Available, 02/05/2023, 10:01:45\n",
      "Benjamin Clark is Being Seen, waited 0:01:36 , Mumpzenmezle is Busy 02/05/2023, 10:01:45\n",
      "Benjamin Clark Finished Consult, Duration 0:05:38, Mumpzenmezle is Available, 02/05/2023, 10:07:23\n",
      "Jack Lee Arrived 0:07:42 Early, 02/05/2023, 10:12:18\n",
      "Sofia Rodriguez Arrived 0:08:23 Late, 02/05/2023, 10:18:23\n",
      "Sofia Rodriguez is Being Seen, waited 0:00:00 , Mumpzenmezle is Busy 02/05/2023, 10:18:23\n",
      "Isabella Taylor Arrived 0:06:36 Early, 02/05/2023, 10:23:24\n",
      "Sofia Rodriguez Finished Consult, Duration 0:06:06, Mumpzenmezle is Available, 02/05/2023, 10:24:29\n",
      "Jack Lee is Being Seen, waited 0:04:29 , Mumpzenmezle is Busy 02/05/2023, 10:24:29\n",
      "Jack Lee Finished Consult, Duration 0:05:49, Mumpzenmezle is Available, 02/05/2023, 10:30:18\n",
      "Isabella Taylor is Being Seen, waited 0:00:18 , Mumpzenmezle is Busy 02/05/2023, 10:30:18\n",
      "Isabella Taylor Finished Consult, Duration 0:06:22, Mumpzenmezle is Available, 02/05/2023, 10:36:40\n",
      "Ryan Patel Arrived 0:01:36 Early, 02/05/2023, 10:38:24\n",
      "Ryan Patel is Being Seen, waited 0:00:00 , Mumpzenmezle is Busy 02/05/2023, 10:40:00\n",
      "Ryan Patel Finished Consult, Duration 0:06:25, Mumpzenmezle is Available, 02/05/2023, 10:46:25\n",
      "Aiden Riley Arrived 0:08:14 Late, 02/05/2023, 10:58:14\n",
      "Aiden Riley is Being Seen, waited 0:00:00 , Mumpzenmezle is Busy 02/05/2023, 10:58:14\n",
      "Aiden Riley Finished Consult, Duration 0:06:13, Mumpzenmezle is Available, 02/05/2023, 11:04:27\n",
      "Mia Anderson Arrived 0:09:09 Late, 02/05/2023, 11:09:09\n",
      "Mia Anderson is Being Seen, waited 0:00:00 , Mumpzenmezle is Busy 02/05/2023, 11:09:09\n",
      "Zara Green Arrived 0:08:52 Early, 02/05/2023, 11:11:08\n",
      "Harry Jackson Arrived 0:03:34 Late, 02/05/2023, 11:13:34\n",
      "Mia Anderson Finished Consult, Duration 0:06:30, Mumpzenmezle is Available, 02/05/2023, 11:15:39\n",
      "Harry Jackson is Being Seen, waited 0:02:05 , Mumpzenmezle is Busy 02/05/2023, 11:15:39\n",
      "Harry Jackson Finished Consult, Duration 0:05:45, Mumpzenmezle is Available, 02/05/2023, 11:21:24\n",
      "Zara Green is Being Seen, waited 0:01:24 , Mumpzenmezle is Busy 02/05/2023, 11:21:24\n",
      "Zara Green Finished Consult, Duration 0:05:45, Mumpzenmezle is Available, 02/05/2023, 11:27:09\n",
      "Lily Davis Arrived 0:11:21 Early, 02/05/2023, 11:28:39\n",
      "Thomas Brown Arrived 0:00:03 Early, 02/05/2023, 11:29:57\n",
      "Thomas Brown is Being Seen, waited 0:00:00 , Mumpzenmezle is Busy 02/05/2023, 11:30:00\n",
      "Thomas Brown Finished Consult, Duration 0:05:07, Mumpzenmezle is Available, 02/05/2023, 11:35:07\n",
      "Lily Davis is Being Seen, waited 0:00:00 , Mumpzenmezle is Busy 02/05/2023, 11:40:00\n",
      "Lily Davis Finished Consult, Duration 0:06:49, Mumpzenmezle is Available, 02/05/2023, 11:46:49\n",
      "William Jones Arrived 0:01:07 Early, 02/05/2023, 11:48:53\n",
      "William Jones is Being Seen, waited 0:00:00 , Mumpzenmezle is Busy 02/05/2023, 11:50:00\n",
      "William Jones Finished Consult, Duration 0:06:07, Mumpzenmezle is Available, 02/05/2023, 11:56:07\n",
      "Liam Reed Arrived 0:08:09 Early, 02/05/2023, 12:01:51\n",
      "Sophie Wilson Arrived 0:09:52 Late, 02/05/2023, 12:09:52\n",
      "Sophie Wilson is Being Seen, waited 0:00:00 , Mumpzenmezle is Busy 02/05/2023, 12:09:52\n",
      "Sophie Wilson Finished Consult, Duration 0:06:41, Mumpzenmezle is Available, 02/05/2023, 12:16:33\n",
      "Liam Reed is Being Seen, waited 0:06:33 , Mumpzenmezle is Busy 02/05/2023, 12:16:33\n",
      "Daniel Patel Arrived 0:01:05 Early, 02/05/2023, 12:18:55\n",
      "Liam Reed Finished Consult, Duration 0:05:36, Mumpzenmezle is Available, 02/05/2023, 12:22:09\n",
      "Daniel Patel is Being Seen, waited 0:02:09 , Mumpzenmezle is Busy 02/05/2023, 12:22:09\n",
      "Daniel Patel Finished Consult, Duration 0:05:16, Mumpzenmezle is Available, 02/05/2023, 12:27:25\n",
      "James Clark Arrived 0:11:19 Early, 02/05/2023, 12:58:41\n",
      "Chloe Lee Arrived 0:00:20 Early, 02/05/2023, 12:59:40\n",
      "Chloe Lee is Being Seen, waited 0:00:00 , Mumpzenmezle is Busy 02/05/2023, 13:00:00\n",
      "Chloe Lee Finished Consult, Duration 0:05:35, Mumpzenmezle is Available, 02/05/2023, 13:05:35\n",
      "James Clark is Being Seen, waited 0:00:00 , Mumpzenmezle is Busy 02/05/2023, 13:10:00\n",
      "James Clark Finished Consult, Duration 0:06:26, Mumpzenmezle is Available, 02/05/2023, 13:16:26\n",
      "Grace Rodriguez Arrived 0:00:59 Early, 02/05/2023, 13:19:01\n",
      "Grace Rodriguez is Being Seen, waited 0:00:00 , Mumpzenmezle is Busy 02/05/2023, 13:20:00\n",
      "Grace Rodriguez Finished Consult, Duration 0:06:02, Mumpzenmezle is Available, 02/05/2023, 13:26:02\n",
      "Ethan Taylor Arrived 0:00:15 Early, 02/05/2023, 13:29:45\n",
      "Ethan Taylor is Being Seen, waited 0:00:00 , Mumpzenmezle is Busy 02/05/2023, 13:30:00\n",
      "Ethan Taylor Finished Consult, Duration 0:06:49, Mumpzenmezle is Available, 02/05/2023, 13:36:49\n",
      "Ruby Thompson Arrived 0:02:49 Early, 02/05/2023, 13:37:11\n",
      "Ruby Thompson is Being Seen, waited 0:00:00 , Mumpzenmezle is Busy 02/05/2023, 13:40:00\n",
      "Ruby Thompson Finished Consult, Duration 0:05:30, Mumpzenmezle is Available, 02/05/2023, 13:45:30\n",
      "Benjamin Lee Arrived 0:11:33 Late, 02/05/2023, 14:01:33\n",
      "Benjamin Lee is Being Seen, waited 0:00:00 , Mumpzenmezle is Busy 02/05/2023, 14:01:33\n",
      "Charlotte Patel Arrived 0:03:56 Late, 02/05/2023, 14:03:56\n",
      "Benjamin Lee Finished Consult, Duration 0:06:37, Mumpzenmezle is Available, 02/05/2023, 14:08:10\n",
      "Charlotte Patel is Being Seen, waited 0:04:14 , Mumpzenmezle is Busy 02/05/2023, 14:08:10\n",
      "Lily Hughes Arrived 0:09:58 Early, 02/05/2023, 14:10:02\n",
      "Charlotte Patel Finished Consult, Duration 0:06:05, Mumpzenmezle is Available, 02/05/2023, 14:14:15\n",
      "James Reed Arrived 0:09:12 Late, 02/05/2023, 14:19:12\n",
      "James Reed is Being Seen, waited 0:00:00 , Mumpzenmezle is Busy 02/05/2023, 14:19:12\n",
      "James Reed Finished Consult, Duration 0:06:03, Mumpzenmezle is Available, 02/05/2023, 14:25:15\n",
      "Lily Hughes is Being Seen, waited 0:05:15 , Mumpzenmezle is Busy 02/05/2023, 14:25:15\n",
      "James Smith Arrived 0:01:20 Early, 02/05/2023, 14:28:40\n",
      "Lily Hughes Finished Consult, Duration 0:05:52, Mumpzenmezle is Available, 02/05/2023, 14:31:07\n",
      "James Smith is Being Seen, waited 0:01:07 , Mumpzenmezle is Busy 02/05/2023, 14:31:07\n",
      "Emily Johnson Arrived 0:04:33 Early, 02/05/2023, 14:35:27\n",
      "James Smith Finished Consult, Duration 0:05:38, Mumpzenmezle is Available, 02/05/2023, 14:36:45\n",
      "Emily Johnson is Being Seen, waited 0:00:00 , Mumpzenmezle is Busy 02/05/2023, 14:40:00\n",
      "Daniel Patel Arrived 0:06:37 Early, 02/05/2023, 14:43:23\n",
      "Emily Johnson Finished Consult, Duration 0:06:33, Mumpzenmezle is Available, 02/05/2023, 14:46:33\n",
      "Daniel Patel is Being Seen, waited 0:00:00 , Mumpzenmezle is Busy 02/05/2023, 14:50:00\n",
      "Olivia Williams Arrived 0:05:36 Early, 02/05/2023, 14:54:24\n",
      "Daniel Patel Finished Consult, Duration 0:06:07, Mumpzenmezle is Available, 02/05/2023, 14:56:07\n",
      "Olivia Williams is Being Seen, waited 0:00:00 , Mumpzenmezle is Busy 02/05/2023, 15:00:00\n",
      "Olivia Williams Finished Consult, Duration 0:06:10, Mumpzenmezle is Available, 02/05/2023, 15:06:10\n",
      "Muhammad Jones Arrived 0:09:55 Late, 02/05/2023, 15:19:55\n",
      "Muhammad Jones is Being Seen, waited 0:00:00 , Mumpzenmezle is Busy 02/05/2023, 15:19:55\n",
      "David Brown Arrived 0:05:19 Early, 02/05/2023, 15:24:41\n",
      "Lily Taylor Arrived 0:05:40 Late, 02/05/2023, 15:25:40\n",
      "Muhammad Jones Finished Consult, Duration 0:06:47, Mumpzenmezle is Available, 02/05/2023, 15:26:42\n",
      "Lily Taylor is Being Seen, waited 0:01:02 , Mumpzenmezle is Busy 02/05/2023, 15:26:42\n",
      "Lily Taylor Finished Consult, Duration 0:05:40, Mumpzenmezle is Available, 02/05/2023, 15:32:22\n",
      "David Brown is Being Seen, waited 0:02:22 , Mumpzenmezle is Busy 02/05/2023, 15:32:22\n",
      "Ava Robinson Arrived 0:04:21 Early, 02/05/2023, 15:35:39\n",
      "Thomas Khan Arrived 0:12:47 Early, 02/05/2023, 15:37:13\n",
      "David Brown Finished Consult, Duration 0:06:40, Mumpzenmezle is Available, 02/05/2023, 15:39:02\n",
      "Ava Robinson is Being Seen, waited 0:00:00 , Mumpzenmezle is Busy 02/05/2023, 15:40:00\n",
      "Ava Robinson Finished Consult, Duration 0:06:20, Mumpzenmezle is Available, 02/05/2023, 15:46:20\n",
      "Thomas Khan is Being Seen, waited 0:00:00 , Mumpzenmezle is Busy 02/05/2023, 15:50:00\n",
      "Thomas Khan Finished Consult, Duration 0:06:31, Mumpzenmezle is Available, 02/05/2023, 15:56:31\n",
      "William White Arrived 0:07:37 Early, 02/05/2023, 16:02:23\n",
      "Sophie Davis Arrived 0:09:53 Late, 02/05/2023, 16:09:53\n",
      "Sophie Davis is Being Seen, waited 0:00:00 , Mumpzenmezle is Busy 02/05/2023, 16:09:53\n",
      "Sophie Davis Finished Consult, Duration 0:06:10, Mumpzenmezle is Available, 02/05/2023, 16:16:03\n",
      "William White is Being Seen, waited 0:06:03 , Mumpzenmezle is Busy 02/05/2023, 16:16:03\n",
      "Mia Turner Arrived 0:01:05 Early, 02/05/2023, 16:18:55\n",
      "William White Finished Consult, Duration 0:06:06, Mumpzenmezle is Available, 02/05/2023, 16:22:09\n",
      "Mia Turner is Being Seen, waited 0:02:09 , Mumpzenmezle is Busy 02/05/2023, 16:22:09\n",
      "Oliver Patel Arrived 0:02:20 Early, 02/05/2023, 16:27:40\n",
      "Mia Turner Finished Consult, Duration 0:06:25, Mumpzenmezle is Available, 02/05/2023, 16:28:34\n",
      "Oliver Patel is Being Seen, waited 0:00:00 , Mumpzenmezle is Busy 02/05/2023, 16:30:00\n",
      "Oliver Patel Finished Consult, Duration 0:06:08, Mumpzenmezle is Available, 02/05/2023, 16:36:08\n"
     ]
    }
   ],
   "source": [
    "doc1.status = \"Available\"\n",
    "\n",
    "for i in range(100000):\n",
    "    myclock = myclock + timedelta(seconds = 1)\n",
    "    for patient in AppointmentBook:\n",
    "        patient.arrives(myclock)\n",
    "        patient.consultation(myclock)\n",
    "        patient.consultation_ends(myclock)\n"
   ]
  },
  {
   "cell_type": "code",
   "execution_count": 25,
   "metadata": {},
   "outputs": [],
   "source": [
    "appts = [patient.AppointmentDateTime for patient in AppointmentBook]\n",
    "\n",
    "waits = [timedelta.total_seconds(patient.wait_time) for patient in AppointmentBook]\n",
    "\n",
    "durations = [timedelta.total_seconds(patient.consult_duration) for patient in AppointmentBook]"
   ]
  },
  {
   "cell_type": "code",
   "execution_count": 26,
   "metadata": {},
   "outputs": [
    {
     "data": {
      "text/plain": [
       "<function matplotlib.pyplot.show(close=None, block=None)>"
      ]
     },
     "execution_count": 26,
     "metadata": {},
     "output_type": "execute_result"
    },
    {
     "data": {
      "image/png": "[encoded data removed]",
      "text/plain": [
       "<Figure size 640x480 with 1 Axes>"
      ]
     },
     "metadata": {},
     "output_type": "display_data"
    }
   ],
   "source": [
    "plt.plot(appts, waits, marker = 'o', linestyle = '-')\n",
    "\n",
    "plt.show"
   ]
  },
  {
   "cell_type": "code",
   "execution_count": 11,
   "metadata": {},
   "outputs": [
    {
     "data": {
      "text/plain": [
       "<function matplotlib.pyplot.show(close=None, block=None)>"
      ]
     },
     "execution_count": 11,
     "metadata": {},
     "output_type": "execute_result"
    },
    {
     "data": {
      "image/png": "[encoded data removed]",
      "text/plain": [
       "<Figure size 640x480 with 1 Axes>"
      ]
     },
     "metadata": {},
     "output_type": "display_data"
    }
   ],
   "source": [
    "plt.plot(appts, durations, marker = 'o', linestyle = '-')\n",
    "\n",
    "plt.ylim(bottom=1, top = max(durations))\n",
    "\n",
    "plt.show"
   ]
  },
  {
   "cell_type": "code",
   "execution_count": 22,
   "metadata": {},
   "outputs": [
    {
     "data": {
      "text/html": [
       "<div>\n",
       "<style scoped>\n",
       "    .dataframe tbody tr th:only-of-type {\n",
       "        vertical-align: middle;\n",
       "    }\n",
       "\n",
       "    .dataframe tbody tr th {\n",
       "        vertical-align: top;\n",
       "    }\n",
       "\n",
       "    .dataframe thead th {\n",
       "        text-align: right;\n",
       "    }\n",
       "</style>\n",
       "<table border=\"1\" class=\"dataframe\">\n",
       "  <thead>\n",
       "    <tr style=\"text-align: right;\">\n",
       "      <th></th>\n",
       "      <th>Status</th>\n",
       "      <th>DateTime</th>\n",
       "      <th>TimeDiff</th>\n",
       "    </tr>\n",
       "  </thead>\n",
       "  <tbody>\n",
       "    <tr>\n",
       "      <th>0</th>\n",
       "      <td>None</td>\n",
       "      <td>2023-02-05 08:00:00</td>\n",
       "      <td>NaT</td>\n",
       "    </tr>\n",
       "    <tr>\n",
       "      <th>1</th>\n",
       "      <td>Available</td>\n",
       "      <td>2023-02-05 08:00:00</td>\n",
       "      <td>0 days 00:00:00</td>\n",
       "    </tr>\n",
       "    <tr>\n",
       "      <th>2</th>\n",
       "      <td>Busy</td>\n",
       "      <td>2023-02-05 08:06:49</td>\n",
       "      <td>0 days 00:06:49</td>\n",
       "    </tr>\n",
       "    <tr>\n",
       "      <th>3</th>\n",
       "      <td>Available</td>\n",
       "      <td>2023-02-05 08:10:00</td>\n",
       "      <td>0 days 00:03:11</td>\n",
       "    </tr>\n",
       "    <tr>\n",
       "      <th>4</th>\n",
       "      <td>Busy</td>\n",
       "      <td>2023-02-05 08:16:48</td>\n",
       "      <td>0 days 00:06:48</td>\n",
       "    </tr>\n",
       "    <tr>\n",
       "      <th>...</th>\n",
       "      <td>...</td>\n",
       "      <td>...</td>\n",
       "      <td>...</td>\n",
       "    </tr>\n",
       "    <tr>\n",
       "      <th>94</th>\n",
       "      <td>Busy</td>\n",
       "      <td>2023-02-05 16:17:04</td>\n",
       "      <td>0 days 00:06:45</td>\n",
       "    </tr>\n",
       "    <tr>\n",
       "      <th>95</th>\n",
       "      <td>Available</td>\n",
       "      <td>2023-02-05 16:20:00</td>\n",
       "      <td>0 days 00:02:56</td>\n",
       "    </tr>\n",
       "    <tr>\n",
       "      <th>96</th>\n",
       "      <td>Busy</td>\n",
       "      <td>2023-02-05 16:26:29</td>\n",
       "      <td>0 days 00:06:29</td>\n",
       "    </tr>\n",
       "    <tr>\n",
       "      <th>97</th>\n",
       "      <td>Available</td>\n",
       "      <td>2023-02-05 16:30:00</td>\n",
       "      <td>0 days 00:03:31</td>\n",
       "    </tr>\n",
       "    <tr>\n",
       "      <th>98</th>\n",
       "      <td>Busy</td>\n",
       "      <td>2023-02-05 16:36:37</td>\n",
       "      <td>0 days 00:06:37</td>\n",
       "    </tr>\n",
       "  </tbody>\n",
       "</table>\n",
       "<p>99 rows × 3 columns</p>\n",
       "</div>"
      ],
      "text/plain": [
       "       Status            DateTime        TimeDiff\n",
       "0        None 2023-02-05 08:00:00             NaT\n",
       "1   Available 2023-02-05 08:00:00 0 days 00:00:00\n",
       "2        Busy 2023-02-05 08:06:49 0 days 00:06:49\n",
       "3   Available 2023-02-05 08:10:00 0 days 00:03:11\n",
       "4        Busy 2023-02-05 08:16:48 0 days 00:06:48\n",
       "..        ...                 ...             ...\n",
       "94       Busy 2023-02-05 16:17:04 0 days 00:06:45\n",
       "95  Available 2023-02-05 16:20:00 0 days 00:02:56\n",
       "96       Busy 2023-02-05 16:26:29 0 days 00:06:29\n",
       "97  Available 2023-02-05 16:30:00 0 days 00:03:31\n",
       "98       Busy 2023-02-05 16:36:37 0 days 00:06:37\n",
       "\n",
       "[99 rows x 3 columns]"
      ]
     },
     "execution_count": 22,
     "metadata": {},
     "output_type": "execute_result"
    }
   ],
   "source": [
    "doc_status_change = pd.DataFrame(doc1.status_change_time, columns=['Status','DateTime'])\n",
    "\n",
    "doc_status_change['DateTime'] = pd.to_datetime(doc_status_change['DateTime'])\n",
    "\n",
    "doc_status_change['TimeDiff'] = doc_status_change['DateTime'].diff()\n",
    "\n",
    "doc_status_change['Status'] = doc_status_change['Status'].shift(1)\n",
    "\n",
    "doc_status_change"
   ]
  },
  {
   "cell_type": "code",
   "execution_count": 31,
   "metadata": {},
   "outputs": [
    {
     "data": {
      "text/plain": [
       "[340.0,\n",
       " 370.0,\n",
       " 359.0,\n",
       " 358.0,\n",
       " 363.0,\n",
       " 395.0,\n",
       " 362.0,\n",
       " 368.0,\n",
       " 382.0,\n",
       " 411.0,\n",
       " 426.0,\n",
       " 397.0,\n",
       " 351.0,\n",
       " 374.0,\n",
       " 366.0,\n",
       " 347.0,\n",
       " 401.0,\n",
       " 353.0,\n",
       " 314.0,\n",
       " 392.0,\n",
       " 378.0,\n",
       " 356.0,\n",
       " 366.0,\n",
       " 357.0,\n",
       " 381.0,\n",
       " 392.0,\n",
       " 373.0,\n",
       " 389.0,\n",
       " 368.0,\n",
       " 370.0,\n",
       " 408.0,\n",
       " 328.0,\n",
       " 359.0,\n",
       " 404.0,\n",
       " 358.0,\n",
       " 346.0,\n",
       " 381.0,\n",
       " 375.0,\n",
       " 381.0,\n",
       " 376.0,\n",
       " 352.0,\n",
       " 369.0,\n",
       " 357.0,\n",
       " 397.0,\n",
       " 413.0,\n",
       " 389.0,\n",
       " 371.0,\n",
       " 397.0,\n",
       " 341.0]"
      ]
     },
     "execution_count": 31,
     "metadata": {},
     "output_type": "execute_result"
    }
   ],
   "source": [
    "durations"
   ]
  }
 ],
 "metadata": {
  "kernelspec": {
   "display_name": "Python 3",
   "language": "python",
   "name": "python3"
  },
  "language_info": {
   "codemirror_mode": {
    "name": "ipython",
    "version": 3
   },
   "file_extension": ".py",
   "mimetype": "text/x-python",
   "name": "python",
   "nbconvert_exporter": "python",
   "pygments_lexer": "ipython3",
   "version": "3.10.12"
  }
 },
 "nbformat": 4,
 "nbformat_minor": 2
}
